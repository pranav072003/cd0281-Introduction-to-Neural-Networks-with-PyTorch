{
 "cells": [
  {
   "cell_type": "markdown",
   "metadata": {},
   "source": [
    "## What are the weights and bias for the AND perceptron?\n",
    "\n",
    "Set the weights (`and_weight1`, `and_weight2`) and bias (`and_bias`) to values that will correctly determine the AND operation as shown above.\n",
    "More than one set of values will work!"
   ]
  },
  {
   "cell_type": "code",
   "execution_count": 2,
   "metadata": {
    "edited": false,
    "gradable": true,
    "grader_id": "6ffohlffms4",
    "udacity_user_query": ""
   },
   "outputs": [],
   "source": [
    "# TODO: Set and_weight1, and_weight2, and and_bias\n",
    "and_weight1 = 1.0\n",
    "and_weight2 = 1.0\n",
    "and_bias = -1.0"
   ]
  },
  {
   "cell_type": "markdown",
   "metadata": {},
   "source": [
    "## What are the weights and bias for the NOT perceptron?\n",
    "\n",
    "Set the weights (`not_weight1`, `not_weight2`)  and bias `not_bias` to the values that calculate the NOT operation on the second input and ignores the first input."
   ]
  },
  {
   "cell_type": "code",
   "execution_count": null,
   "metadata": {
    "edited": false,
    "gradable": true,
    "grader_id": "b0wtcwiwk79",
    "udacity_user_query": ""
   },
   "outputs": [],
   "source": [
    "# TODO: Set not_weight1, not_weight2, and not_bias\n",
    "not_weight1 = 0.0\n",
    "not_weight2 = -1.0\n",
    "not_bias = 1.0"
   ]
  }
 ],
 "metadata": {
  "grader_mode": "",
  "kernelspec": {
   "display_name": "Python 3",
   "language": "python",
   "name": "python3"
  },
  "language_info": {
   "codemirror_mode": {
    "name": "ipython",
    "version": 3
   },
   "file_extension": ".py",
   "mimetype": "text/x-python",
   "name": "python",
   "nbconvert_exporter": "python",
   "pygments_lexer": "ipython3",
   "version": "3.6.3"
  },
  "showGradeBtn": true
 },
 "nbformat": 4,
 "nbformat_minor": 2
}
