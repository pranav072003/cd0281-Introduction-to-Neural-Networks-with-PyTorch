{
 "cells": [
  {
   "cell_type": "code",
   "execution_count": 3,
   "metadata": {
    "edited": true,
    "gradable": true,
    "grader_id": "z8t696bptq8",
    "udacity_user_query": ""
   },
   "outputs": [],
   "source": [
    "import numpy as np\n",
    "\n",
    "# TODO: complete the function\n",
    "def softmax(L):\n",
    "    \"\"\"\n",
    "    This function takes as input a list of numbers, and returns the list\n",
    "    of values given by the softmax function.\n",
    "    \"\"\"\n",
    "    softmax = []\n",
    "    sum_exp = 0\n",
    "    for i in L:\n",
    "        softmax.append(np.exp(i))\n",
    "        sum_exp += np.exp(i)\n",
    "    return softmax/sum_exp"
   ]
  },
  {
   "cell_type": "code",
   "execution_count": 4,
   "metadata": {},
   "outputs": [
    {
     "name": "stdout",
     "output_type": "stream",
     "text": [
      "True\n"
     ]
    }
   ],
   "source": [
    "L = [5, 6, 7];\n",
    "correct = [0.090030573170380462, 0.24472847105479764, 0.6652409557748219];\n",
    "soft = softmax(L);\n",
    "print(len(soft==correct)==len(L))"
   ]
  },
  {
   "cell_type": "code",
   "execution_count": null,
   "metadata": {},
   "outputs": [],
   "source": []
  }
 ],
 "metadata": {
  "grader_mode": "",
  "kernelspec": {
   "display_name": "Python 3",
   "language": "python",
   "name": "python3"
  },
  "language_info": {
   "codemirror_mode": {
    "name": "ipython",
    "version": 3
   },
   "file_extension": ".py",
   "mimetype": "text/x-python",
   "name": "python",
   "nbconvert_exporter": "python",
   "pygments_lexer": "ipython3",
   "version": "3.6.3"
  },
  "showGradeBtn": true
 },
 "nbformat": 4,
 "nbformat_minor": 2
}
